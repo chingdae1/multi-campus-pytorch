{
 "cells": [
  {
   "cell_type": "markdown",
   "metadata": {},
   "source": [
    "## 1. Import Pakages"
   ]
  },
  {
   "cell_type": "code",
   "execution_count": 1,
   "metadata": {},
   "outputs": [],
   "source": [
    "import torch\n",
    "import torch.nn as nn\n",
    "import torchvision.datasets as dset\n",
    "import torchvision.transforms as transforms\n",
    "import matplotlib.pyplot as plt\n",
    "import numpy as np"
   ]
  },
  {
   "cell_type": "markdown",
   "metadata": {},
   "source": [
    "## 2. 하이퍼파라미터 세팅"
   ]
  },
  {
   "cell_type": "code",
   "execution_count": 2,
   "metadata": {},
   "outputs": [],
   "source": [
    "batch_size = 100\n",
    "num_epochs = 300\n",
    "learning_rate = 0.0002\n",
    "z_size = 50"
   ]
  },
  {
   "cell_type": "markdown",
   "metadata": {},
   "source": [
    "## 3. Dataset 및 DataLoader 정의"
   ]
  },
  {
   "cell_type": "code",
   "execution_count": 3,
   "metadata": {},
   "outputs": [],
   "source": [
    "root = '../data/mnist'\n",
    "transform = transforms.Compose([transforms.ToTensor(), transforms.Normalize(mean=(0.5,), std=(0.5,))])\n",
    "train_data = dset.MNIST(root=root, train=True, transform=transform, download=True)\n",
    "train_loader = torch.utils.data.DataLoader(\n",
    "                 dataset=train_data,\n",
    "                 batch_size=batch_size,\n",
    "                 shuffle=True)"
   ]
  },
  {
   "cell_type": "markdown",
   "metadata": {},
   "source": [
    "## 4. 데이터 시각화"
   ]
  },
  {
   "cell_type": "code",
   "execution_count": 4,
   "metadata": {
    "scrolled": true
   },
   "outputs": [
    {
     "data": {
      "image/png": "[encoded data removed]",
      "text/plain": [
       "<Figure size 576x576 with 25 Axes>"
      ]
     },
     "metadata": {
      "needs_background": "light"
     },
     "output_type": "display_data"
    }
   ],
   "source": [
    "columns = 5\n",
    "rows = 5\n",
    "fig = plt.figure(figsize=(8,8))\n",
    "\n",
    "for i in range(1, columns*rows+1):\n",
    "    data_idx = np.random.randint(len(train_data))\n",
    "    img = train_data[data_idx][0][0,:,:].numpy() # numpy()를 통해 torch Tensor를 numpy array로 변환\n",
    "    label = train_data[data_idx][1] # item()을 통해 torch Tensor를 숫자로 변환\n",
    "    \n",
    "    fig.add_subplot(rows, columns, i)\n",
    "    plt.title(label)\n",
    "    plt.imshow(img, cmap='gray')\n",
    "    plt.axis('off')\n",
    "plt.show()"
   ]
  },
  {
   "cell_type": "markdown",
   "metadata": {},
   "source": [
    "## 5. 네트워크 설계"
   ]
  },
  {
   "cell_type": "code",
   "execution_count": 5,
   "metadata": {},
   "outputs": [],
   "source": [
    "class Generator(nn.Module):\n",
    "    def __init__(self):\n",
    "        super(Generator, self).__init__()\n",
    "        self.model = nn.Sequential(\n",
    "            nn.Linear(z_size, 256),\n",
    "            nn.ReLU(),\n",
    "            nn.Linear(256, 512),\n",
    "            nn.ReLU(),\n",
    "            nn.Linear(512, 28 * 28),\n",
    "            nn.Tanh()\n",
    "        )\n",
    "\n",
    "    def forward(self, z):\n",
    "        img = self.model(z)\n",
    "        img = img.view(-1, 1, 28, 28)\n",
    "        return img"
   ]
  },
  {
   "cell_type": "code",
   "execution_count": 6,
   "metadata": {},
   "outputs": [],
   "source": [
    "class Discriminator(nn.Module):\n",
    "    def __init__(self):\n",
    "        super(Discriminator, self).__init__()\n",
    "        self.model = nn.Sequential(\n",
    "            nn.Linear(28 * 28, 512),\n",
    "            nn.LeakyReLU(0.2),\n",
    "            nn.Linear(512, 256),\n",
    "            nn.LeakyReLU(0.2),\n",
    "            nn.Linear(256, 1),\n",
    "            nn.Sigmoid()\n",
    "        )\n",
    "\n",
    "    def forward(self, img):\n",
    "        img = img.view(img.shape[0], -1)\n",
    "        validity = self.model(img)\n",
    "        return validity"
   ]
  },
  {
   "cell_type": "markdown",
   "metadata": {},
   "source": [
    "## 6. 모델 생성 및 loss function, optimizer 정의"
   ]
  },
  {
   "cell_type": "code",
   "execution_count": 7,
   "metadata": {
    "scrolled": false
   },
   "outputs": [],
   "source": [
    "device = torch.device('cuda:0' if torch.cuda.is_available() else 'cpu')\n",
    "generator = Generator().to(device)\n",
    "discriminator = Discriminator().to(device)\n",
    "adversarial_loss = torch.nn.BCELoss()\n",
    "optimizer_G = torch.optim.Adam(generator.parameters(), lr=learning_rate)\n",
    "optimizer_D = torch.optim.Adam(discriminator.parameters(), lr=learning_rate)"
   ]
  },
  {
   "cell_type": "markdown",
   "metadata": {},
   "source": [
    "## 7. Training"
   ]
  },
  {
   "cell_type": "code",
   "execution_count": 8,
   "metadata": {
    "scrolled": true
   },
   "outputs": [
    {
     "name": "stderr",
     "output_type": "stream",
     "text": [
      "/anaconda3/envs/py36/lib/python3.6/site-packages/ipykernel_launcher.py:7: UserWarning: nn.init.normal is now deprecated in favor of nn.init.normal_.\n",
      "  import sys\n"
     ]
    },
    {
     "name": "stdout",
     "output_type": "stream",
     "text": [
      "Epoch [1/300], Step [100/600], D_Loss: 0.1030, G_Loss: 2.0514\n",
      "Epoch [1/300], Step [200/600], D_Loss: 0.0315, G_Loss: 2.9209\n",
      "Epoch [1/300], Step [300/600], D_Loss: 0.0181, G_Loss: 3.4518\n",
      "Epoch [1/300], Step [400/600], D_Loss: 0.1307, G_Loss: 2.4390\n",
      "Epoch [1/300], Step [500/600], D_Loss: 0.0105, G_Loss: 4.0266\n",
      "Epoch [1/300], Step [600/600], D_Loss: 0.0163, G_Loss: 3.6097\n",
      "Epoch [2/300], Step [100/600], D_Loss: 0.0716, G_Loss: 2.6774\n",
      "Epoch [2/300], Step [200/600], D_Loss: 0.0252, G_Loss: 3.2733\n",
      "Epoch [2/300], Step [300/600], D_Loss: 0.0126, G_Loss: 4.0037\n",
      "Epoch [2/300], Step [400/600], D_Loss: 0.0429, G_Loss: 3.8838\n",
      "Epoch [2/300], Step [500/600], D_Loss: 0.0681, G_Loss: 2.9981\n",
      "Epoch [2/300], Step [600/600], D_Loss: 0.0326, G_Loss: 3.3743\n",
      "Epoch [3/300], Step [100/600], D_Loss: 0.1576, G_Loss: 1.8474\n",
      "Epoch [3/300], Step [200/600], D_Loss: 0.0659, G_Loss: 2.4900\n",
      "Epoch [3/300], Step [300/600], D_Loss: 0.0737, G_Loss: 3.2981\n",
      "Epoch [3/300], Step [400/600], D_Loss: 0.0426, G_Loss: 4.8294\n",
      "Epoch [3/300], Step [500/600], D_Loss: 0.1378, G_Loss: 2.0341\n",
      "Epoch [3/300], Step [600/600], D_Loss: 0.2684, G_Loss: 1.6470\n",
      "Epoch [4/300], Step [100/600], D_Loss: 0.1636, G_Loss: 2.3853\n",
      "Epoch [4/300], Step [200/600], D_Loss: 0.2067, G_Loss: 4.7167\n",
      "Epoch [4/300], Step [300/600], D_Loss: 0.0718, G_Loss: 3.9638\n",
      "Epoch [4/300], Step [400/600], D_Loss: 0.0180, G_Loss: 3.6732\n",
      "Epoch [4/300], Step [500/600], D_Loss: 0.0415, G_Loss: 5.1262\n",
      "Epoch [4/300], Step [600/600], D_Loss: 0.0921, G_Loss: 2.3280\n",
      "Epoch [5/300], Step [100/600], D_Loss: 0.2662, G_Loss: 1.0536\n",
      "Epoch [5/300], Step [200/600], D_Loss: 0.0606, G_Loss: 4.8974\n",
      "Epoch [5/300], Step [300/600], D_Loss: 0.0133, G_Loss: 4.2402\n",
      "Epoch [5/300], Step [400/600], D_Loss: 0.0327, G_Loss: 4.7946\n",
      "Epoch [5/300], Step [500/600], D_Loss: 0.0176, G_Loss: 4.0823\n",
      "Epoch [5/300], Step [600/600], D_Loss: 0.0154, G_Loss: 4.1081\n",
      "Epoch [6/300], Step [100/600], D_Loss: 0.0207, G_Loss: 3.4603\n",
      "Epoch [6/300], Step [200/600], D_Loss: 0.0190, G_Loss: 5.3488\n",
      "Epoch [6/300], Step [300/600], D_Loss: 0.0102, G_Loss: 6.3041\n",
      "Epoch [6/300], Step [400/600], D_Loss: 0.0277, G_Loss: 4.5221\n",
      "Epoch [6/300], Step [500/600], D_Loss: 0.0631, G_Loss: 6.8163\n",
      "Epoch [6/300], Step [600/600], D_Loss: 0.0284, G_Loss: 6.2136\n",
      "Epoch [7/300], Step [100/600], D_Loss: 0.1360, G_Loss: 8.2914\n",
      "Epoch [7/300], Step [200/600], D_Loss: 0.0113, G_Loss: 5.3225\n",
      "Epoch [7/300], Step [300/600], D_Loss: 0.0167, G_Loss: 7.0826\n",
      "Epoch [7/300], Step [400/600], D_Loss: 0.0041, G_Loss: 5.7486\n",
      "Epoch [7/300], Step [500/600], D_Loss: 0.0082, G_Loss: 7.1732\n",
      "Epoch [7/300], Step [600/600], D_Loss: 0.0097, G_Loss: 6.9450\n",
      "Epoch [8/300], Step [100/600], D_Loss: 0.0160, G_Loss: 6.2369\n",
      "Epoch [8/300], Step [200/600], D_Loss: 0.0829, G_Loss: 7.3498\n",
      "Epoch [8/300], Step [300/600], D_Loss: 0.0040, G_Loss: 6.1927\n",
      "Epoch [8/300], Step [400/600], D_Loss: 0.0171, G_Loss: 4.8216\n",
      "Epoch [8/300], Step [500/600], D_Loss: 0.0216, G_Loss: 7.3841\n",
      "Epoch [8/300], Step [600/600], D_Loss: 0.0205, G_Loss: 9.2645\n",
      "Epoch [9/300], Step [100/600], D_Loss: 0.0319, G_Loss: 5.7539\n",
      "Epoch [9/300], Step [200/600], D_Loss: 0.0432, G_Loss: 5.8743\n",
      "Epoch [9/300], Step [300/600], D_Loss: 0.0311, G_Loss: 4.5037\n",
      "Epoch [9/300], Step [400/600], D_Loss: 0.0432, G_Loss: 3.7069\n",
      "Epoch [9/300], Step [500/600], D_Loss: 0.0087, G_Loss: 5.2659\n",
      "Epoch [9/300], Step [600/600], D_Loss: 0.0477, G_Loss: 7.9117\n",
      "Epoch [10/300], Step [100/600], D_Loss: 0.0165, G_Loss: 6.6992\n",
      "Epoch [10/300], Step [200/600], D_Loss: 0.0024, G_Loss: 6.1004\n",
      "Epoch [10/300], Step [300/600], D_Loss: 0.3721, G_Loss: 9.2350\n",
      "Epoch [10/300], Step [400/600], D_Loss: 0.0579, G_Loss: 2.6458\n",
      "Epoch [10/300], Step [500/600], D_Loss: 0.0389, G_Loss: 4.3059\n",
      "Epoch [10/300], Step [600/600], D_Loss: 0.0085, G_Loss: 4.9362\n",
      "Epoch [11/300], Step [100/600], D_Loss: 0.0470, G_Loss: 7.4855\n",
      "Epoch [11/300], Step [200/600], D_Loss: 0.0897, G_Loss: 3.7311\n",
      "Epoch [11/300], Step [300/600], D_Loss: 0.0270, G_Loss: 3.6298\n",
      "Epoch [11/300], Step [400/600], D_Loss: 0.0360, G_Loss: 4.0430\n",
      "Epoch [11/300], Step [500/600], D_Loss: 0.0198, G_Loss: 4.0881\n",
      "Epoch [11/300], Step [600/600], D_Loss: 0.0037, G_Loss: 6.8812\n",
      "Epoch [12/300], Step [100/600], D_Loss: 0.0329, G_Loss: 4.9923\n",
      "Epoch [12/300], Step [200/600], D_Loss: 0.0323, G_Loss: 5.9990\n",
      "Epoch [12/300], Step [300/600], D_Loss: 0.1331, G_Loss: 6.3530\n",
      "Epoch [12/300], Step [400/600], D_Loss: 0.0077, G_Loss: 5.1234\n",
      "Epoch [12/300], Step [500/600], D_Loss: 0.0148, G_Loss: 5.2312\n",
      "Epoch [12/300], Step [600/600], D_Loss: 0.0502, G_Loss: 4.4227\n",
      "Epoch [13/300], Step [100/600], D_Loss: 0.0302, G_Loss: 5.5876\n",
      "Epoch [13/300], Step [200/600], D_Loss: 0.0315, G_Loss: 5.5600\n",
      "Epoch [13/300], Step [300/600], D_Loss: 0.0205, G_Loss: 6.4432\n",
      "Epoch [13/300], Step [400/600], D_Loss: 0.2544, G_Loss: 15.0325\n",
      "Epoch [13/300], Step [500/600], D_Loss: 0.0096, G_Loss: 4.7290\n",
      "Epoch [13/300], Step [600/600], D_Loss: 0.0137, G_Loss: 4.9169\n",
      "Epoch [14/300], Step [100/600], D_Loss: 0.0257, G_Loss: 4.7982\n",
      "Epoch [14/300], Step [200/600], D_Loss: 0.0062, G_Loss: 4.8544\n",
      "Epoch [14/300], Step [300/600], D_Loss: 0.0031, G_Loss: 9.4921\n",
      "Epoch [14/300], Step [400/600], D_Loss: 0.0142, G_Loss: 3.9104\n",
      "Epoch [14/300], Step [500/600], D_Loss: 0.0214, G_Loss: 5.8195\n",
      "Epoch [14/300], Step [600/600], D_Loss: 0.0090, G_Loss: 6.6132\n",
      "Epoch [15/300], Step [100/600], D_Loss: 0.0412, G_Loss: 5.1966\n",
      "Epoch [15/300], Step [200/600], D_Loss: 0.0073, G_Loss: 5.1384\n",
      "Epoch [15/300], Step [300/600], D_Loss: 0.0100, G_Loss: 5.9583\n",
      "Epoch [15/300], Step [400/600], D_Loss: 0.0185, G_Loss: 10.2498\n",
      "Epoch [15/300], Step [500/600], D_Loss: 0.0057, G_Loss: 5.4259\n",
      "Epoch [15/300], Step [600/600], D_Loss: 0.0537, G_Loss: 4.1158\n",
      "Epoch [16/300], Step [100/600], D_Loss: 0.0317, G_Loss: 3.5796\n",
      "Epoch [16/300], Step [200/600], D_Loss: 0.0052, G_Loss: 8.2584\n",
      "Epoch [16/300], Step [300/600], D_Loss: 0.0144, G_Loss: 5.1629\n",
      "Epoch [16/300], Step [400/600], D_Loss: 0.0262, G_Loss: 10.0989\n",
      "Epoch [16/300], Step [500/600], D_Loss: 0.0150, G_Loss: 5.3951\n",
      "Epoch [16/300], Step [600/600], D_Loss: 0.0214, G_Loss: 11.9088\n",
      "Epoch [17/300], Step [100/600], D_Loss: 0.0187, G_Loss: 5.0459\n",
      "Epoch [17/300], Step [200/600], D_Loss: 0.0084, G_Loss: 12.7393\n",
      "Epoch [17/300], Step [300/600], D_Loss: 0.0525, G_Loss: 7.4938\n",
      "Epoch [17/300], Step [400/600], D_Loss: 0.0109, G_Loss: 12.0396\n",
      "Epoch [17/300], Step [500/600], D_Loss: 0.0176, G_Loss: 7.2918\n",
      "Epoch [17/300], Step [600/600], D_Loss: 0.0631, G_Loss: 3.5789\n",
      "Epoch [18/300], Step [100/600], D_Loss: 0.0009, G_Loss: 9.3408\n",
      "Epoch [18/300], Step [200/600], D_Loss: 0.0218, G_Loss: 7.8586\n",
      "Epoch [18/300], Step [300/600], D_Loss: 0.0031, G_Loss: 9.0768\n",
      "Epoch [18/300], Step [400/600], D_Loss: 0.0283, G_Loss: 6.8283\n",
      "Epoch [18/300], Step [500/600], D_Loss: 0.0027, G_Loss: 7.2416\n",
      "Epoch [18/300], Step [600/600], D_Loss: 0.0064, G_Loss: 11.0108\n",
      "Epoch [19/300], Step [100/600], D_Loss: 0.0017, G_Loss: 6.7009\n",
      "Epoch [19/300], Step [200/600], D_Loss: 0.0256, G_Loss: 4.1095\n",
      "Epoch [19/300], Step [300/600], D_Loss: 0.0041, G_Loss: 6.6478\n",
      "Epoch [19/300], Step [400/600], D_Loss: 0.0344, G_Loss: 5.9665\n",
      "Epoch [19/300], Step [500/600], D_Loss: 0.0029, G_Loss: 7.7682\n",
      "Epoch [19/300], Step [600/600], D_Loss: 0.0430, G_Loss: 7.1620\n",
      "Epoch [20/300], Step [100/600], D_Loss: 0.0097, G_Loss: 5.7845\n",
      "Epoch [20/300], Step [200/600], D_Loss: 0.0442, G_Loss: 4.8218\n",
      "Epoch [20/300], Step [300/600], D_Loss: 0.0028, G_Loss: 8.1608\n",
      "Epoch [20/300], Step [400/600], D_Loss: 0.0222, G_Loss: 6.0718\n",
      "Epoch [20/300], Step [500/600], D_Loss: 0.0236, G_Loss: 7.0770\n",
      "Epoch [20/300], Step [600/600], D_Loss: 0.0388, G_Loss: 8.6993\n",
      "Epoch [21/300], Step [100/600], D_Loss: 0.0074, G_Loss: 7.7129\n",
      "Epoch [21/300], Step [200/600], D_Loss: 0.0020, G_Loss: 7.0016\n",
      "Epoch [21/300], Step [300/600], D_Loss: 0.0649, G_Loss: 4.5694\n",
      "Epoch [21/300], Step [400/600], D_Loss: 0.0032, G_Loss: 6.2614\n",
      "Epoch [21/300], Step [500/600], D_Loss: 0.0020, G_Loss: 8.9968\n",
      "Epoch [21/300], Step [600/600], D_Loss: 0.0350, G_Loss: 4.7289\n",
      "Epoch [22/300], Step [100/600], D_Loss: 0.0267, G_Loss: 4.9042\n",
      "Epoch [22/300], Step [200/600], D_Loss: 0.0033, G_Loss: 13.3318\n",
      "Epoch [22/300], Step [300/600], D_Loss: 0.0241, G_Loss: 5.9340\n",
      "Epoch [22/300], Step [400/600], D_Loss: 0.0045, G_Loss: 7.0961\n",
      "Epoch [22/300], Step [500/600], D_Loss: 0.0551, G_Loss: 9.6443\n"
     ]
    },
    {
     "name": "stdout",
     "output_type": "stream",
     "text": [
      "Epoch [22/300], Step [600/600], D_Loss: 0.0091, G_Loss: 8.0630\n",
      "Epoch [23/300], Step [100/600], D_Loss: 0.0219, G_Loss: 6.5517\n",
      "Epoch [23/300], Step [200/600], D_Loss: 0.0007, G_Loss: 14.4305\n",
      "Epoch [23/300], Step [300/600], D_Loss: 0.0073, G_Loss: 6.0303\n",
      "Epoch [23/300], Step [400/600], D_Loss: 0.0100, G_Loss: 5.4618\n",
      "Epoch [23/300], Step [500/600], D_Loss: 0.0051, G_Loss: 8.8395\n",
      "Epoch [23/300], Step [600/600], D_Loss: 0.0560, G_Loss: 6.2938\n",
      "Epoch [24/300], Step [100/600], D_Loss: 0.2230, G_Loss: 13.0165\n",
      "Epoch [24/300], Step [200/600], D_Loss: 0.0131, G_Loss: 5.7673\n",
      "Epoch [24/300], Step [300/600], D_Loss: 0.0480, G_Loss: 5.0074\n",
      "Epoch [24/300], Step [400/600], D_Loss: 0.0287, G_Loss: 5.5612\n",
      "Epoch [24/300], Step [500/600], D_Loss: 0.0310, G_Loss: 6.8103\n",
      "Epoch [24/300], Step [600/600], D_Loss: 0.0083, G_Loss: 10.5854\n",
      "Epoch [25/300], Step [100/600], D_Loss: 0.0576, G_Loss: 5.7704\n",
      "Epoch [25/300], Step [200/600], D_Loss: 0.0054, G_Loss: 5.6263\n",
      "Epoch [25/300], Step [300/600], D_Loss: 0.0221, G_Loss: 6.3206\n",
      "Epoch [25/300], Step [400/600], D_Loss: 0.0274, G_Loss: 6.6007\n",
      "Epoch [25/300], Step [500/600], D_Loss: 0.0285, G_Loss: 5.3396\n",
      "Epoch [25/300], Step [600/600], D_Loss: 0.0745, G_Loss: 9.8789\n",
      "Epoch [26/300], Step [100/600], D_Loss: 0.0080, G_Loss: 10.0812\n",
      "Epoch [26/300], Step [200/600], D_Loss: 0.0032, G_Loss: 7.3606\n",
      "Epoch [26/300], Step [300/600], D_Loss: 0.0189, G_Loss: 5.8393\n",
      "Epoch [26/300], Step [400/600], D_Loss: 0.0159, G_Loss: 5.1404\n",
      "Epoch [26/300], Step [500/600], D_Loss: 0.0803, G_Loss: 4.4178\n",
      "Epoch [26/300], Step [600/600], D_Loss: 0.0577, G_Loss: 5.9439\n",
      "Epoch [27/300], Step [100/600], D_Loss: 0.0127, G_Loss: 5.9494\n",
      "Epoch [27/300], Step [200/600], D_Loss: 0.0056, G_Loss: 7.0216\n",
      "Epoch [27/300], Step [300/600], D_Loss: 0.0141, G_Loss: 5.1038\n",
      "Epoch [27/300], Step [400/600], D_Loss: 0.0568, G_Loss: 5.1082\n",
      "Epoch [27/300], Step [500/600], D_Loss: 0.0477, G_Loss: 5.1343\n",
      "Epoch [27/300], Step [600/600], D_Loss: 0.0020, G_Loss: 7.6661\n",
      "Epoch [28/300], Step [100/600], D_Loss: 0.0474, G_Loss: 6.0787\n",
      "Epoch [28/300], Step [200/600], D_Loss: 0.0211, G_Loss: 7.6892\n",
      "Epoch [28/300], Step [300/600], D_Loss: 0.0679, G_Loss: 4.0216\n",
      "Epoch [28/300], Step [400/600], D_Loss: 0.0128, G_Loss: 9.0393\n",
      "Epoch [28/300], Step [500/600], D_Loss: 0.0323, G_Loss: 4.6778\n",
      "Epoch [28/300], Step [600/600], D_Loss: 0.0588, G_Loss: 4.5187\n",
      "Epoch [29/300], Step [100/600], D_Loss: 0.0307, G_Loss: 7.1032\n",
      "Epoch [29/300], Step [200/600], D_Loss: 0.0559, G_Loss: 4.5818\n",
      "Epoch [29/300], Step [300/600], D_Loss: 0.1020, G_Loss: 3.5810\n",
      "Epoch [29/300], Step [400/600], D_Loss: 0.0134, G_Loss: 7.2113\n",
      "Epoch [29/300], Step [500/600], D_Loss: 0.1885, G_Loss: 2.2544\n",
      "Epoch [29/300], Step [600/600], D_Loss: 0.0281, G_Loss: 9.7266\n",
      "Epoch [30/300], Step [100/600], D_Loss: 0.0647, G_Loss: 3.8656\n",
      "Epoch [30/300], Step [200/600], D_Loss: 0.0080, G_Loss: 6.4071\n",
      "Epoch [30/300], Step [300/600], D_Loss: 0.0138, G_Loss: 6.9303\n",
      "Epoch [30/300], Step [400/600], D_Loss: 0.0043, G_Loss: 6.7814\n",
      "Epoch [30/300], Step [500/600], D_Loss: 0.0437, G_Loss: 4.9630\n",
      "Epoch [30/300], Step [600/600], D_Loss: 0.1420, G_Loss: 9.8258\n",
      "Epoch [31/300], Step [100/600], D_Loss: 0.0636, G_Loss: 5.7028\n",
      "Epoch [31/300], Step [200/600], D_Loss: 0.0255, G_Loss: 4.6104\n",
      "Epoch [31/300], Step [300/600], D_Loss: 0.0795, G_Loss: 6.7068\n",
      "Epoch [31/300], Step [400/600], D_Loss: 0.0187, G_Loss: 6.4650\n",
      "Epoch [31/300], Step [500/600], D_Loss: 0.0067, G_Loss: 5.6575\n",
      "Epoch [31/300], Step [600/600], D_Loss: 0.0228, G_Loss: 5.3825\n",
      "Epoch [32/300], Step [100/600], D_Loss: 0.1041, G_Loss: 3.5294\n",
      "Epoch [32/300], Step [200/600], D_Loss: 0.1959, G_Loss: 5.3081\n",
      "Epoch [32/300], Step [300/600], D_Loss: 0.0229, G_Loss: 5.0546\n",
      "Epoch [32/300], Step [400/600], D_Loss: 0.0247, G_Loss: 5.2762\n",
      "Epoch [32/300], Step [500/600], D_Loss: 0.0519, G_Loss: 4.5977\n",
      "Epoch [32/300], Step [600/600], D_Loss: 0.0477, G_Loss: 5.4591\n",
      "Epoch [33/300], Step [100/600], D_Loss: 0.1177, G_Loss: 4.5318\n",
      "Epoch [33/300], Step [200/600], D_Loss: 0.0407, G_Loss: 5.6004\n",
      "Epoch [33/300], Step [300/600], D_Loss: 0.0313, G_Loss: 5.4790\n",
      "Epoch [33/300], Step [400/600], D_Loss: 0.1042, G_Loss: 5.7852\n",
      "Epoch [33/300], Step [500/600], D_Loss: 0.0398, G_Loss: 6.4845\n",
      "Epoch [33/300], Step [600/600], D_Loss: 0.1437, G_Loss: 3.3183\n",
      "Epoch [34/300], Step [100/600], D_Loss: 0.0464, G_Loss: 5.4055\n",
      "Epoch [34/300], Step [200/600], D_Loss: 0.0602, G_Loss: 5.6867\n",
      "Epoch [34/300], Step [300/600], D_Loss: 0.1303, G_Loss: 7.8544\n",
      "Epoch [34/300], Step [400/600], D_Loss: 0.0165, G_Loss: 7.2730\n",
      "Epoch [34/300], Step [500/600], D_Loss: 0.0403, G_Loss: 4.3978\n",
      "Epoch [34/300], Step [600/600], D_Loss: 0.0369, G_Loss: 7.3383\n",
      "Epoch [35/300], Step [100/600], D_Loss: 0.0327, G_Loss: 4.9155\n",
      "Epoch [35/300], Step [200/600], D_Loss: 0.0251, G_Loss: 6.7599\n",
      "Epoch [35/300], Step [300/600], D_Loss: 0.0190, G_Loss: 6.2789\n",
      "Epoch [35/300], Step [400/600], D_Loss: 0.0752, G_Loss: 3.3235\n",
      "Epoch [35/300], Step [500/600], D_Loss: 0.0407, G_Loss: 4.6693\n",
      "Epoch [35/300], Step [600/600], D_Loss: 0.0247, G_Loss: 6.8895\n",
      "Epoch [36/300], Step [100/600], D_Loss: 0.0513, G_Loss: 5.7510\n",
      "Epoch [36/300], Step [200/600], D_Loss: 0.0268, G_Loss: 7.5784\n",
      "Epoch [36/300], Step [300/600], D_Loss: 0.0711, G_Loss: 8.7689\n",
      "Epoch [36/300], Step [400/600], D_Loss: 0.0026, G_Loss: 9.7576\n",
      "Epoch [36/300], Step [500/600], D_Loss: 0.0656, G_Loss: 8.2915\n",
      "Epoch [36/300], Step [600/600], D_Loss: 0.0701, G_Loss: 6.4001\n",
      "Epoch [37/300], Step [100/600], D_Loss: 0.1416, G_Loss: 7.6937\n",
      "Epoch [37/300], Step [200/600], D_Loss: 0.0628, G_Loss: 5.5169\n",
      "Epoch [37/300], Step [300/600], D_Loss: 0.0079, G_Loss: 5.3702\n",
      "Epoch [37/300], Step [400/600], D_Loss: 0.1083, G_Loss: 6.8171\n",
      "Epoch [37/300], Step [500/600], D_Loss: 0.0677, G_Loss: 3.7185\n",
      "Epoch [37/300], Step [600/600], D_Loss: 0.1006, G_Loss: 4.5709\n",
      "Epoch [38/300], Step [100/600], D_Loss: 0.0272, G_Loss: 5.8748\n",
      "Epoch [38/300], Step [200/600], D_Loss: 0.0664, G_Loss: 6.7086\n",
      "Epoch [38/300], Step [300/600], D_Loss: 0.0757, G_Loss: 4.8182\n",
      "Epoch [38/300], Step [400/600], D_Loss: 0.1114, G_Loss: 3.2707\n",
      "Epoch [38/300], Step [500/600], D_Loss: 0.1184, G_Loss: 6.7932\n",
      "Epoch [38/300], Step [600/600], D_Loss: 0.0779, G_Loss: 5.5262\n",
      "Epoch [39/300], Step [100/600], D_Loss: 0.1243, G_Loss: 5.0406\n",
      "Epoch [39/300], Step [200/600], D_Loss: 0.0649, G_Loss: 3.5821\n",
      "Epoch [39/300], Step [300/600], D_Loss: 0.0733, G_Loss: 3.7281\n",
      "Epoch [39/300], Step [400/600], D_Loss: 0.0809, G_Loss: 3.7249\n",
      "Epoch [39/300], Step [500/600], D_Loss: 0.0893, G_Loss: 4.1670\n",
      "Epoch [39/300], Step [600/600], D_Loss: 0.0347, G_Loss: 4.7851\n",
      "Epoch [40/300], Step [100/600], D_Loss: 0.0620, G_Loss: 4.0362\n",
      "Epoch [40/300], Step [200/600], D_Loss: 0.1791, G_Loss: 6.6694\n",
      "Epoch [40/300], Step [300/600], D_Loss: 0.0821, G_Loss: 5.1851\n",
      "Epoch [40/300], Step [400/600], D_Loss: 0.1085, G_Loss: 3.4131\n",
      "Epoch [40/300], Step [500/600], D_Loss: 0.0970, G_Loss: 4.2240\n",
      "Epoch [40/300], Step [600/600], D_Loss: 0.1314, G_Loss: 4.7353\n",
      "Epoch [41/300], Step [100/600], D_Loss: 0.0595, G_Loss: 4.1822\n",
      "Epoch [41/300], Step [200/600], D_Loss: 0.0957, G_Loss: 3.5925\n",
      "Epoch [41/300], Step [300/600], D_Loss: 0.0679, G_Loss: 4.2656\n",
      "Epoch [41/300], Step [400/600], D_Loss: 0.0767, G_Loss: 4.0375\n",
      "Epoch [41/300], Step [500/600], D_Loss: 0.0733, G_Loss: 4.3472\n",
      "Epoch [41/300], Step [600/600], D_Loss: 0.0666, G_Loss: 4.6748\n",
      "Epoch [42/300], Step [100/600], D_Loss: 0.2305, G_Loss: 4.4500\n",
      "Epoch [42/300], Step [200/600], D_Loss: 0.0785, G_Loss: 5.1702\n",
      "Epoch [42/300], Step [300/600], D_Loss: 0.0836, G_Loss: 5.5278\n",
      "Epoch [42/300], Step [400/600], D_Loss: 0.1352, G_Loss: 6.6160\n",
      "Epoch [42/300], Step [500/600], D_Loss: 0.1188, G_Loss: 6.3675\n",
      "Epoch [42/300], Step [600/600], D_Loss: 0.1178, G_Loss: 3.2162\n",
      "Epoch [43/300], Step [100/600], D_Loss: 0.1539, G_Loss: 5.6006\n",
      "Epoch [43/300], Step [200/600], D_Loss: 0.0989, G_Loss: 3.8060\n",
      "Epoch [43/300], Step [300/600], D_Loss: 0.0962, G_Loss: 3.9223\n",
      "Epoch [43/300], Step [400/600], D_Loss: 0.0425, G_Loss: 4.4099\n",
      "Epoch [43/300], Step [500/600], D_Loss: 0.1203, G_Loss: 3.5304\n",
      "Epoch [43/300], Step [600/600], D_Loss: 0.0690, G_Loss: 3.4861\n",
      "Epoch [44/300], Step [100/600], D_Loss: 0.0492, G_Loss: 4.5631\n",
      "Epoch [44/300], Step [200/600], D_Loss: 0.0423, G_Loss: 4.5329\n",
      "Epoch [44/300], Step [300/600], D_Loss: 0.0856, G_Loss: 4.4584\n"
     ]
    },
    {
     "name": "stdout",
     "output_type": "stream",
     "text": [
      "Epoch [44/300], Step [400/600], D_Loss: 0.0824, G_Loss: 5.0056\n",
      "Epoch [44/300], Step [500/600], D_Loss: 0.0363, G_Loss: 6.4347\n",
      "Epoch [44/300], Step [600/600], D_Loss: 0.0822, G_Loss: 4.3780\n",
      "Epoch [45/300], Step [100/600], D_Loss: 0.0763, G_Loss: 8.5024\n",
      "Epoch [45/300], Step [200/600], D_Loss: 0.0379, G_Loss: 6.6207\n",
      "Epoch [45/300], Step [300/600], D_Loss: 0.0782, G_Loss: 5.0714\n",
      "Epoch [45/300], Step [400/600], D_Loss: 0.0316, G_Loss: 7.5560\n",
      "Epoch [45/300], Step [500/600], D_Loss: 0.0541, G_Loss: 4.0527\n",
      "Epoch [45/300], Step [600/600], D_Loss: 0.0941, G_Loss: 3.3143\n",
      "Epoch [46/300], Step [100/600], D_Loss: 0.1474, G_Loss: 5.1820\n",
      "Epoch [46/300], Step [200/600], D_Loss: 0.0496, G_Loss: 5.1391\n",
      "Epoch [46/300], Step [300/600], D_Loss: 0.1051, G_Loss: 6.0114\n",
      "Epoch [46/300], Step [400/600], D_Loss: 0.1290, G_Loss: 3.3704\n",
      "Epoch [46/300], Step [500/600], D_Loss: 0.1441, G_Loss: 2.9255\n",
      "Epoch [46/300], Step [600/600], D_Loss: 0.1717, G_Loss: 5.0946\n",
      "Epoch [47/300], Step [100/600], D_Loss: 0.0971, G_Loss: 5.7572\n",
      "Epoch [47/300], Step [200/600], D_Loss: 0.0704, G_Loss: 4.2670\n",
      "Epoch [47/300], Step [300/600], D_Loss: 0.0611, G_Loss: 4.1736\n",
      "Epoch [47/300], Step [400/600], D_Loss: 0.1352, G_Loss: 3.2601\n",
      "Epoch [47/300], Step [500/600], D_Loss: 0.1523, G_Loss: 4.7941\n",
      "Epoch [47/300], Step [600/600], D_Loss: 0.1124, G_Loss: 4.8148\n",
      "Epoch [48/300], Step [100/600], D_Loss: 0.0718, G_Loss: 5.6478\n",
      "Epoch [48/300], Step [200/600], D_Loss: 0.0832, G_Loss: 3.2303\n",
      "Epoch [48/300], Step [300/600], D_Loss: 0.1700, G_Loss: 2.9131\n",
      "Epoch [48/300], Step [400/600], D_Loss: 0.1129, G_Loss: 3.6915\n",
      "Epoch [48/300], Step [500/600], D_Loss: 0.1373, G_Loss: 4.9962\n",
      "Epoch [48/300], Step [600/600], D_Loss: 0.1568, G_Loss: 3.9341\n",
      "Epoch [49/300], Step [100/600], D_Loss: 0.1454, G_Loss: 3.1772\n",
      "Epoch [49/300], Step [200/600], D_Loss: 0.1279, G_Loss: 2.8566\n",
      "Epoch [49/300], Step [300/600], D_Loss: 0.1742, G_Loss: 2.2757\n",
      "Epoch [49/300], Step [400/600], D_Loss: 0.0910, G_Loss: 4.3497\n",
      "Epoch [49/300], Step [500/600], D_Loss: 0.1821, G_Loss: 2.3981\n",
      "Epoch [49/300], Step [600/600], D_Loss: 0.1373, G_Loss: 3.9546\n",
      "Epoch [50/300], Step [100/600], D_Loss: 0.1326, G_Loss: 4.1624\n",
      "Epoch [50/300], Step [200/600], D_Loss: 0.0871, G_Loss: 3.7642\n",
      "Epoch [50/300], Step [300/600], D_Loss: 0.1535, G_Loss: 3.0545\n",
      "Epoch [50/300], Step [400/600], D_Loss: 0.1075, G_Loss: 3.4515\n",
      "Epoch [50/300], Step [500/600], D_Loss: 0.1123, G_Loss: 2.3408\n",
      "Epoch [50/300], Step [600/600], D_Loss: 0.1494, G_Loss: 3.8200\n",
      "Epoch [51/300], Step [100/600], D_Loss: 0.1358, G_Loss: 2.5904\n",
      "Epoch [51/300], Step [200/600], D_Loss: 0.2186, G_Loss: 4.6485\n",
      "Epoch [51/300], Step [300/600], D_Loss: 0.1536, G_Loss: 3.9441\n",
      "Epoch [51/300], Step [400/600], D_Loss: 0.1454, G_Loss: 3.8450\n",
      "Epoch [51/300], Step [500/600], D_Loss: 0.1512, G_Loss: 3.1096\n",
      "Epoch [51/300], Step [600/600], D_Loss: 0.2368, G_Loss: 1.6435\n",
      "Epoch [52/300], Step [100/600], D_Loss: 0.1551, G_Loss: 2.2755\n",
      "Epoch [52/300], Step [200/600], D_Loss: 0.1178, G_Loss: 3.5403\n",
      "Epoch [52/300], Step [300/600], D_Loss: 0.1309, G_Loss: 3.1779\n",
      "Epoch [52/300], Step [400/600], D_Loss: 0.1278, G_Loss: 4.2288\n",
      "Epoch [52/300], Step [500/600], D_Loss: 0.1332, G_Loss: 2.5982\n",
      "Epoch [52/300], Step [600/600], D_Loss: 0.1420, G_Loss: 3.5531\n",
      "Epoch [53/300], Step [100/600], D_Loss: 0.1058, G_Loss: 3.2355\n",
      "Epoch [53/300], Step [200/600], D_Loss: 0.0833, G_Loss: 3.0897\n",
      "Epoch [53/300], Step [300/600], D_Loss: 0.0985, G_Loss: 3.8504\n",
      "Epoch [53/300], Step [400/600], D_Loss: 0.1300, G_Loss: 3.0625\n",
      "Epoch [53/300], Step [500/600], D_Loss: 0.1499, G_Loss: 3.2312\n",
      "Epoch [53/300], Step [600/600], D_Loss: 0.0967, G_Loss: 3.5643\n",
      "Epoch [54/300], Step [100/600], D_Loss: 0.0537, G_Loss: 4.7257\n",
      "Epoch [54/300], Step [200/600], D_Loss: 0.0734, G_Loss: 4.6277\n",
      "Epoch [54/300], Step [300/600], D_Loss: 0.0380, G_Loss: 6.8164\n",
      "Epoch [54/300], Step [400/600], D_Loss: 0.0749, G_Loss: 7.7137\n",
      "Epoch [54/300], Step [500/600], D_Loss: 0.0090, G_Loss: 9.3230\n",
      "Epoch [54/300], Step [600/600], D_Loss: 0.0250, G_Loss: 8.7824\n",
      "Epoch [55/300], Step [100/600], D_Loss: 0.0352, G_Loss: 5.9181\n",
      "Epoch [55/300], Step [200/600], D_Loss: 0.0094, G_Loss: 6.7324\n",
      "Epoch [55/300], Step [300/600], D_Loss: 0.0060, G_Loss: 6.3500\n",
      "Epoch [55/300], Step [400/600], D_Loss: 0.0868, G_Loss: 5.4374\n",
      "Epoch [55/300], Step [500/600], D_Loss: 0.0589, G_Loss: 6.5075\n",
      "Epoch [55/300], Step [600/600], D_Loss: 0.0575, G_Loss: 6.0185\n",
      "Epoch [56/300], Step [100/600], D_Loss: 0.1691, G_Loss: 5.3984\n",
      "Epoch [56/300], Step [200/600], D_Loss: 0.0875, G_Loss: 4.1645\n",
      "Epoch [56/300], Step [300/600], D_Loss: 0.0700, G_Loss: 4.5645\n",
      "Epoch [56/300], Step [400/600], D_Loss: 0.1159, G_Loss: 3.3715\n",
      "Epoch [56/300], Step [500/600], D_Loss: 0.1189, G_Loss: 2.9556\n",
      "Epoch [56/300], Step [600/600], D_Loss: 0.0996, G_Loss: 3.6794\n",
      "Epoch [57/300], Step [100/600], D_Loss: 0.1899, G_Loss: 4.5967\n",
      "Epoch [57/300], Step [200/600], D_Loss: 0.1924, G_Loss: 3.9978\n",
      "Epoch [57/300], Step [300/600], D_Loss: 0.1595, G_Loss: 2.8031\n",
      "Epoch [57/300], Step [400/600], D_Loss: 0.2043, G_Loss: 2.1577\n",
      "Epoch [57/300], Step [500/600], D_Loss: 0.1826, G_Loss: 3.2588\n",
      "Epoch [57/300], Step [600/600], D_Loss: 0.1328, G_Loss: 2.6643\n",
      "Epoch [58/300], Step [100/600], D_Loss: 0.1383, G_Loss: 3.3645\n",
      "Epoch [58/300], Step [200/600], D_Loss: 0.0471, G_Loss: 3.8207\n",
      "Epoch [58/300], Step [300/600], D_Loss: 0.1724, G_Loss: 2.2996\n",
      "Epoch [58/300], Step [400/600], D_Loss: 0.1798, G_Loss: 2.9043\n",
      "Epoch [58/300], Step [500/600], D_Loss: 0.1414, G_Loss: 2.3775\n",
      "Epoch [58/300], Step [600/600], D_Loss: 0.2162, G_Loss: 2.5734\n",
      "Epoch [59/300], Step [100/600], D_Loss: 0.1762, G_Loss: 2.5202\n",
      "Epoch [59/300], Step [200/600], D_Loss: 0.2154, G_Loss: 2.2642\n",
      "Epoch [59/300], Step [300/600], D_Loss: 0.1616, G_Loss: 3.2260\n",
      "Epoch [59/300], Step [400/600], D_Loss: 0.1586, G_Loss: 3.3997\n",
      "Epoch [59/300], Step [500/600], D_Loss: 0.0638, G_Loss: 3.4784\n",
      "Epoch [59/300], Step [600/600], D_Loss: 0.1351, G_Loss: 3.6093\n",
      "Epoch [60/300], Step [100/600], D_Loss: 0.1405, G_Loss: 4.4066\n",
      "Epoch [60/300], Step [200/600], D_Loss: 0.0625, G_Loss: 4.3135\n",
      "Epoch [60/300], Step [300/600], D_Loss: 0.1078, G_Loss: 4.2552\n",
      "Epoch [60/300], Step [400/600], D_Loss: 0.1211, G_Loss: 3.7055\n",
      "Epoch [60/300], Step [500/600], D_Loss: 0.1185, G_Loss: 3.9282\n",
      "Epoch [60/300], Step [600/600], D_Loss: 0.1317, G_Loss: 3.5724\n",
      "Epoch [61/300], Step [100/600], D_Loss: 0.0917, G_Loss: 3.5034\n",
      "Epoch [61/300], Step [200/600], D_Loss: 0.2212, G_Loss: 2.9530\n",
      "Epoch [61/300], Step [300/600], D_Loss: 0.2404, G_Loss: 2.0999\n",
      "Epoch [61/300], Step [400/600], D_Loss: 0.1973, G_Loss: 3.3903\n",
      "Epoch [61/300], Step [500/600], D_Loss: 0.1839, G_Loss: 2.6926\n",
      "Epoch [61/300], Step [600/600], D_Loss: 0.2084, G_Loss: 3.0679\n",
      "Epoch [62/300], Step [100/600], D_Loss: 0.1285, G_Loss: 4.8474\n",
      "Epoch [62/300], Step [200/600], D_Loss: 0.1789, G_Loss: 3.6958\n",
      "Epoch [62/300], Step [300/600], D_Loss: 0.1379, G_Loss: 3.1022\n",
      "Epoch [62/300], Step [400/600], D_Loss: 0.2305, G_Loss: 2.2875\n",
      "Epoch [62/300], Step [500/600], D_Loss: 0.1097, G_Loss: 4.4700\n",
      "Epoch [62/300], Step [600/600], D_Loss: 0.0923, G_Loss: 2.9946\n",
      "Epoch [63/300], Step [100/600], D_Loss: 0.1689, G_Loss: 4.2046\n",
      "Epoch [63/300], Step [200/600], D_Loss: 0.1355, G_Loss: 4.5551\n",
      "Epoch [63/300], Step [300/600], D_Loss: 0.1256, G_Loss: 6.2355\n",
      "Epoch [63/300], Step [400/600], D_Loss: 0.1248, G_Loss: 2.9013\n",
      "Epoch [63/300], Step [500/600], D_Loss: 0.1079, G_Loss: 2.8321\n",
      "Epoch [63/300], Step [600/600], D_Loss: 0.1280, G_Loss: 2.9132\n",
      "Epoch [64/300], Step [100/600], D_Loss: 0.1177, G_Loss: 4.9694\n",
      "Epoch [64/300], Step [200/600], D_Loss: 0.1089, G_Loss: 3.1457\n",
      "Epoch [64/300], Step [300/600], D_Loss: 0.0920, G_Loss: 5.0321\n",
      "Epoch [64/300], Step [400/600], D_Loss: 0.0570, G_Loss: 5.0907\n",
      "Epoch [64/300], Step [500/600], D_Loss: 0.1527, G_Loss: 8.5995\n",
      "Epoch [64/300], Step [600/600], D_Loss: 0.0507, G_Loss: 8.6221\n",
      "Epoch [65/300], Step [100/600], D_Loss: 0.0125, G_Loss: 9.3225\n",
      "Epoch [65/300], Step [200/600], D_Loss: 0.0076, G_Loss: 10.0364\n",
      "Epoch [65/300], Step [300/600], D_Loss: 0.0096, G_Loss: 8.8079\n",
      "Epoch [65/300], Step [400/600], D_Loss: 0.0042, G_Loss: 9.0993\n",
      "Epoch [65/300], Step [500/600], D_Loss: 0.0238, G_Loss: 8.6003\n",
      "Epoch [65/300], Step [600/600], D_Loss: 0.0248, G_Loss: 8.9980\n",
      "Epoch [66/300], Step [100/600], D_Loss: 0.0252, G_Loss: 7.1045\n",
      "Epoch [66/300], Step [200/600], D_Loss: 0.0491, G_Loss: 12.4214\n"
     ]
    },
    {
     "name": "stdout",
     "output_type": "stream",
     "text": [
      "Epoch [66/300], Step [300/600], D_Loss: 0.0953, G_Loss: 4.5730\n",
      "Epoch [66/300], Step [400/600], D_Loss: 0.1481, G_Loss: 4.7726\n",
      "Epoch [66/300], Step [500/600], D_Loss: 0.0369, G_Loss: 5.6081\n",
      "Epoch [66/300], Step [600/600], D_Loss: 0.0864, G_Loss: 4.7136\n",
      "Epoch [67/300], Step [100/600], D_Loss: 0.1490, G_Loss: 5.4999\n",
      "Epoch [67/300], Step [200/600], D_Loss: 0.1492, G_Loss: 3.7350\n",
      "Epoch [67/300], Step [300/600], D_Loss: 0.1655, G_Loss: 3.3777\n",
      "Epoch [67/300], Step [400/600], D_Loss: 0.1585, G_Loss: 4.9938\n",
      "Epoch [67/300], Step [500/600], D_Loss: 0.1985, G_Loss: 4.0324\n",
      "Epoch [67/300], Step [600/600], D_Loss: 0.1807, G_Loss: 2.7154\n",
      "Epoch [68/300], Step [100/600], D_Loss: 0.1877, G_Loss: 2.4604\n",
      "Epoch [68/300], Step [200/600], D_Loss: 0.1748, G_Loss: 3.5294\n",
      "Epoch [68/300], Step [300/600], D_Loss: 0.1607, G_Loss: 4.0857\n",
      "Epoch [68/300], Step [400/600], D_Loss: 0.1209, G_Loss: 3.3035\n",
      "Epoch [68/300], Step [500/600], D_Loss: 0.1137, G_Loss: 3.1815\n",
      "Epoch [68/300], Step [600/600], D_Loss: 0.2109, G_Loss: 2.5610\n",
      "Epoch [69/300], Step [100/600], D_Loss: 0.1664, G_Loss: 2.6724\n",
      "Epoch [69/300], Step [200/600], D_Loss: 0.2290, G_Loss: 3.5575\n",
      "Epoch [69/300], Step [300/600], D_Loss: 0.0986, G_Loss: 3.3336\n",
      "Epoch [69/300], Step [400/600], D_Loss: 0.2053, G_Loss: 4.2577\n",
      "Epoch [69/300], Step [500/600], D_Loss: 0.1301, G_Loss: 3.0208\n",
      "Epoch [69/300], Step [600/600], D_Loss: 0.2455, G_Loss: 3.8138\n",
      "Epoch [70/300], Step [100/600], D_Loss: 0.1147, G_Loss: 2.9962\n",
      "Epoch [70/300], Step [200/600], D_Loss: 0.1638, G_Loss: 2.4167\n",
      "Epoch [70/300], Step [300/600], D_Loss: 0.1627, G_Loss: 2.3019\n",
      "Epoch [70/300], Step [400/600], D_Loss: 0.0872, G_Loss: 4.5573\n",
      "Epoch [70/300], Step [500/600], D_Loss: 0.2331, G_Loss: 3.9260\n",
      "Epoch [70/300], Step [600/600], D_Loss: 0.1403, G_Loss: 3.5123\n",
      "Epoch [71/300], Step [100/600], D_Loss: 0.2626, G_Loss: 2.3144\n",
      "Epoch [71/300], Step [200/600], D_Loss: 0.3107, G_Loss: 3.0724\n",
      "Epoch [71/300], Step [300/600], D_Loss: 0.1706, G_Loss: 2.9693\n",
      "Epoch [71/300], Step [400/600], D_Loss: 0.2468, G_Loss: 2.4097\n",
      "Epoch [71/300], Step [500/600], D_Loss: 0.1866, G_Loss: 2.4343\n",
      "Epoch [71/300], Step [600/600], D_Loss: 0.1218, G_Loss: 3.5771\n",
      "Epoch [72/300], Step [100/600], D_Loss: 0.1149, G_Loss: 2.9438\n",
      "Epoch [72/300], Step [200/600], D_Loss: 0.1582, G_Loss: 3.1037\n",
      "Epoch [72/300], Step [300/600], D_Loss: 0.2664, G_Loss: 4.1291\n",
      "Epoch [72/300], Step [400/600], D_Loss: 0.2237, G_Loss: 2.3260\n",
      "Epoch [72/300], Step [500/600], D_Loss: 0.2509, G_Loss: 2.5932\n",
      "Epoch [72/300], Step [600/600], D_Loss: 0.2121, G_Loss: 3.0352\n",
      "Epoch [73/300], Step [100/600], D_Loss: 0.2692, G_Loss: 3.0564\n",
      "Epoch [73/300], Step [200/600], D_Loss: 0.2365, G_Loss: 2.8662\n",
      "Epoch [73/300], Step [300/600], D_Loss: 0.2032, G_Loss: 3.5514\n",
      "Epoch [73/300], Step [400/600], D_Loss: 0.2701, G_Loss: 3.6347\n",
      "Epoch [73/300], Step [500/600], D_Loss: 0.1546, G_Loss: 2.6478\n",
      "Epoch [73/300], Step [600/600], D_Loss: 0.1651, G_Loss: 2.5795\n",
      "Epoch [74/300], Step [100/600], D_Loss: 0.2324, G_Loss: 2.5549\n",
      "Epoch [74/300], Step [200/600], D_Loss: 0.2037, G_Loss: 3.4256\n",
      "Epoch [74/300], Step [300/600], D_Loss: 0.1352, G_Loss: 2.4644\n",
      "Epoch [74/300], Step [400/600], D_Loss: 0.1846, G_Loss: 2.5999\n",
      "Epoch [74/300], Step [500/600], D_Loss: 0.2182, G_Loss: 2.4125\n"
     ]
    },
    {
     "ename": "KeyboardInterrupt",
     "evalue": "",
     "output_type": "error",
     "traceback": [
      "\u001b[0;31m---------------------------------------------------------------------------\u001b[0m",
      "\u001b[0;31mKeyboardInterrupt\u001b[0m                         Traceback (most recent call last)",
      "\u001b[0;32m<ipython-input-8-55a2c67c0201>\u001b[0m in \u001b[0;36m<module>\u001b[0;34m()\u001b[0m\n\u001b[1;32m     12\u001b[0m         \u001b[0moptimizer_G\u001b[0m\u001b[0;34m.\u001b[0m\u001b[0mzero_grad\u001b[0m\u001b[0;34m(\u001b[0m\u001b[0;34m)\u001b[0m\u001b[0;34m\u001b[0m\u001b[0m\n\u001b[1;32m     13\u001b[0m         \u001b[0mg_loss\u001b[0m\u001b[0;34m.\u001b[0m\u001b[0mbackward\u001b[0m\u001b[0;34m(\u001b[0m\u001b[0;34m)\u001b[0m\u001b[0;34m\u001b[0m\u001b[0m\n\u001b[0;32m---> 14\u001b[0;31m         \u001b[0moptimizer_G\u001b[0m\u001b[0;34m.\u001b[0m\u001b[0mstep\u001b[0m\u001b[0;34m(\u001b[0m\u001b[0;34m)\u001b[0m\u001b[0;34m\u001b[0m\u001b[0m\n\u001b[0m\u001b[1;32m     15\u001b[0m \u001b[0;34m\u001b[0m\u001b[0m\n\u001b[1;32m     16\u001b[0m         \u001b[0mreal_loss\u001b[0m \u001b[0;34m=\u001b[0m \u001b[0madversarial_loss\u001b[0m\u001b[0;34m(\u001b[0m\u001b[0mdiscriminator\u001b[0m\u001b[0;34m(\u001b[0m\u001b[0mreal_imgs\u001b[0m\u001b[0;34m)\u001b[0m\u001b[0;34m,\u001b[0m \u001b[0mvalid\u001b[0m\u001b[0;34m)\u001b[0m\u001b[0;34m\u001b[0m\u001b[0m\n",
      "\u001b[0;32m/anaconda3/envs/py36/lib/python3.6/site-packages/torch/optim/adam.py\u001b[0m in \u001b[0;36mstep\u001b[0;34m(self, closure)\u001b[0m\n\u001b[1;32m    105\u001b[0m                 \u001b[0mstep_size\u001b[0m \u001b[0;34m=\u001b[0m \u001b[0mgroup\u001b[0m\u001b[0;34m[\u001b[0m\u001b[0;34m'lr'\u001b[0m\u001b[0;34m]\u001b[0m \u001b[0;34m*\u001b[0m \u001b[0mmath\u001b[0m\u001b[0;34m.\u001b[0m\u001b[0msqrt\u001b[0m\u001b[0;34m(\u001b[0m\u001b[0mbias_correction2\u001b[0m\u001b[0;34m)\u001b[0m \u001b[0;34m/\u001b[0m \u001b[0mbias_correction1\u001b[0m\u001b[0;34m\u001b[0m\u001b[0m\n\u001b[1;32m    106\u001b[0m \u001b[0;34m\u001b[0m\u001b[0m\n\u001b[0;32m--> 107\u001b[0;31m                 \u001b[0mp\u001b[0m\u001b[0;34m.\u001b[0m\u001b[0mdata\u001b[0m\u001b[0;34m.\u001b[0m\u001b[0maddcdiv_\u001b[0m\u001b[0;34m(\u001b[0m\u001b[0;34m-\u001b[0m\u001b[0mstep_size\u001b[0m\u001b[0;34m,\u001b[0m \u001b[0mexp_avg\u001b[0m\u001b[0;34m,\u001b[0m \u001b[0mdenom\u001b[0m\u001b[0;34m)\u001b[0m\u001b[0;34m\u001b[0m\u001b[0m\n\u001b[0m\u001b[1;32m    108\u001b[0m \u001b[0;34m\u001b[0m\u001b[0m\n\u001b[1;32m    109\u001b[0m         \u001b[0;32mreturn\u001b[0m \u001b[0mloss\u001b[0m\u001b[0;34m\u001b[0m\u001b[0m\n",
      "\u001b[0;31mKeyboardInterrupt\u001b[0m: "
     ]
    }
   ],
   "source": [
    "for epoch in range(num_epochs):\n",
    "    for i, (imgs, _) in enumerate(train_loader):\n",
    "        \n",
    "        valid = torch.ones(batch_size, 1).to(device)\n",
    "        fake = torch.zeros(batch_size, 1).to(device)\n",
    "        real_imgs = imgs.to(device)\n",
    "        z = nn.init.normal(torch.Tensor(batch_size,z_size),mean=0,std=0.1).to(device)\n",
    "        \n",
    "        # 코드 시작\n",
    "        gen_imgs = generator(z) # G에 z를 입력으로 주어 이미지 생성\n",
    "        g_loss = adversarial_loss(discriminator(gen_imgs), valid) # G_loss 측정, G가 만들어낸 이미지를 D에게 주었을 때,\n",
    "                                                                  # D가 그것을 얼마나 real 하다고 하는지를 측정.\n",
    "        optimizer_G.zero_grad() # g_loss의 기울기 계산 및 파라미터 업데이트\n",
    "        g_loss.backward()\n",
    "        optimizer_G.step()\n",
    "\n",
    "        real_loss = adversarial_loss(discriminator(real_imgs), valid)  # D의 real_loss 측정, D에게 real 이미지를 주었을 때,\n",
    "                                                                       # D가 그것을 얼마나 real 하다고 하는지를 측정.     \n",
    "        fake_loss = adversarial_loss(discriminator(gen_imgs.detach()), fake) # D의 fake_loss 측정, D에게 G가 만든 이미지를 주었을 때,\n",
    "                                                                             # D가 그것을 얼마나 fake 하다고 하는지를 측정.\n",
    "        d_loss = (real_loss + fake_loss) / 2\n",
    "        \n",
    "        optimizer_D.zero_grad() # d_loss의 기울기 계산 및 파라미터 업데이트\n",
    "        d_loss.backward()\n",
    "        optimizer_D.step()\n",
    "        # 코드 종료\n",
    "\n",
    "        if (i+1) % 100 == 0:\n",
    "            print('Epoch [{}/{}], Step [{}/{}], D_Loss: {:.4f}, G_Loss: {:.4f}'.format(\n",
    "                epoch+1, num_epochs, i+1, len(train_loader), d_loss.item(), g_loss.item()))"
   ]
  },
  {
   "cell_type": "markdown",
   "metadata": {},
   "source": [
    "## 8. Test"
   ]
  },
  {
   "cell_type": "code",
   "execution_count": 16,
   "metadata": {},
   "outputs": [
    {
     "name": "stderr",
     "output_type": "stream",
     "text": [
      "/anaconda3/envs/py36/lib/python3.6/site-packages/ipykernel_launcher.py:4: UserWarning: nn.init.normal is now deprecated in favor of nn.init.normal_.\n",
      "  after removing the cwd from sys.path.\n"
     ]
    },
    {
     "data": {
      "image/png": "[encoded data removed]",
      "text/plain": [
       "<Figure size 432x288 with 1 Axes>"
      ]
     },
     "metadata": {
      "needs_background": "light"
     },
     "output_type": "display_data"
    },
    {
     "data": {
      "image/png": "[encoded data removed]",
      "text/plain": [
       "<Figure size 432x288 with 1 Axes>"
      ]
     },
     "metadata": {
      "needs_background": "light"
     },
     "output_type": "display_data"
    },
    {
     "data": {
      "image/png": "[encoded data removed]",
      "text/plain": [
       "<Figure size 432x288 with 1 Axes>"
      ]
     },
     "metadata": {
      "needs_background": "light"
     },
     "output_type": "display_data"
    },
    {
     "data": {
      "image/png": "[encoded data removed]",
      "text/plain": [
       "<Figure size 432x288 with 1 Axes>"
      ]
     },
     "metadata": {
      "needs_background": "light"
     },
     "output_type": "display_data"
    },
    {
     "data": {
      "image/png": "[encoded data removed]",
      "text/plain": [
       "<Figure size 432x288 with 1 Axes>"
      ]
     },
     "metadata": {
      "needs_background": "light"
     },
     "output_type": "display_data"
    },
    {
     "data": {
      "image/png": "[encoded data removed]",
      "text/plain": [
       "<Figure size 432x288 with 1 Axes>"
      ]
     },
     "metadata": {
      "needs_background": "light"
     },
     "output_type": "display_data"
    },
    {
     "data": {
      "image/png": "[encoded data removed]",
      "text/plain": [
       "<Figure size 432x288 with 1 Axes>"
      ]
     },
     "metadata": {
      "needs_background": "light"
     },
     "output_type": "display_data"
    },
    {
     "data": {
      "image/png": "[encoded data removed]",
      "text/plain": [
       "<Figure size 432x288 with 1 Axes>"
      ]
     },
     "metadata": {
      "needs_background": "light"
     },
     "output_type": "display_data"
    },
    {
     "data": {
      "image/png": "[encoded data removed]",
      "text/plain": [
       "<Figure size 432x288 with 1 Axes>"
      ]
     },
     "metadata": {
      "needs_background": "light"
     },
     "output_type": "display_data"
    },
    {
     "data": {
      "image/png": "[encoded data removed]",
      "text/plain": [
       "<Figure size 432x288 with 1 Axes>"
      ]
     },
     "metadata": {
      "needs_background": "light"
     },
     "output_type": "display_data"
    },
    {
     "data": {
      "text/plain": [
       "Generator(\n",
       "  (model): Sequential(\n",
       "    (0): Linear(in_features=50, out_features=256, bias=True)\n",
       "    (1): ReLU()\n",
       "    (2): Linear(in_features=256, out_features=512, bias=True)\n",
       "    (3): ReLU()\n",
       "    (4): Linear(in_features=512, out_features=784, bias=True)\n",
       "    (5): Tanh()\n",
       "  )\n",
       ")"
      ]
     },
     "execution_count": 16,
     "metadata": {},
     "output_type": "execute_result"
    }
   ],
   "source": [
    "generator.eval()\n",
    "with torch.no_grad():\n",
    "    for i in range(10):\n",
    "        z = nn.init.normal(torch.Tensor(1,z_size),mean=0,std=0.1)\n",
    "        gen_imgs = generator(z)\n",
    "        gen_imgs = gen_imgs.view(1, 28, 28)\n",
    "        plt.imshow(torch.squeeze(gen_imgs).numpy(), cmap='gray')\n",
    "        plt.show()\n",
    "generator.train()"
   ]
  },
  {
   "cell_type": "code",
   "execution_count": null,
   "metadata": {},
   "outputs": [],
   "source": []
  }
 ],
 "metadata": {
  "kernelspec": {
   "display_name": "py36",
   "language": "python",
   "name": "py36"
  },
  "language_info": {
   "codemirror_mode": {
    "name": "ipython",
    "version": 3
   },
   "file_extension": ".py",
   "mimetype": "text/x-python",
   "name": "python",
   "nbconvert_exporter": "python",
   "pygments_lexer": "ipython3",
   "version": "3.6.2"
  }
 },
 "nbformat": 4,
 "nbformat_minor": 1
}
