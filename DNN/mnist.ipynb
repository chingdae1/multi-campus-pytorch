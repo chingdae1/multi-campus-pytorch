{
 "cells": [
  {
   "cell_type": "markdown",
   "metadata": {},
   "source": [
    "## 1. Import Pakages"
   ]
  },
  {
   "cell_type": "code",
   "execution_count": 1,
   "metadata": {},
   "outputs": [],
   "source": [
    "import torch\n",
    "import torch.nn as nn\n",
    "import torchvision.datasets as dset\n",
    "import torchvision.transforms as transforms\n",
    "import matplotlib.pyplot as plt\n",
    "import numpy as np"
   ]
  },
  {
   "cell_type": "markdown",
   "metadata": {},
   "source": [
    "## 2. 하이퍼파라미터 세팅"
   ]
  },
  {
   "cell_type": "code",
   "execution_count": 2,
   "metadata": {},
   "outputs": [],
   "source": [
    "batch_size = 100\n",
    "num_epochs = 5\n",
    "learning_rate = 0.001"
   ]
  },
  {
   "cell_type": "markdown",
   "metadata": {},
   "source": [
    "## 3. Dataset 및 DataLoader 정의"
   ]
  },
  {
   "cell_type": "code",
   "execution_count": 3,
   "metadata": {},
   "outputs": [],
   "source": [
    "root = '../data/mnist'\n",
    "transform = transforms.Compose([transforms.ToTensor(), transforms.Normalize(mean=(0.5,), std=(0.5,))])\n",
    "train_data = dset.MNIST(root=root, train=True, transform=transform, download=True)\n",
    "test_data = dset.MNIST(root=root, train=False, transform=transform, download=True)\n",
    "train_loader = torch.utils.data.DataLoader(\n",
    "                 dataset=train_data,\n",
    "                 batch_size=batch_size,\n",
    "                 shuffle=True)\n",
    "test_loader = torch.utils.data.DataLoader(\n",
    "                 dataset=test_data,\n",
    "                 batch_size=batch_size,\n",
    "                 shuffle=False)"
   ]
  },
  {
   "cell_type": "markdown",
   "metadata": {},
   "source": [
    "## 4. 데이터 시각화"
   ]
  },
  {
   "cell_type": "code",
   "execution_count": 4,
   "metadata": {},
   "outputs": [
    {
     "data": {
      "image/png": "[encoded data removed]",
      "text/plain": [
       "<Figure size 576x576 with 25 Axes>"
      ]
     },
     "metadata": {
      "needs_background": "light"
     },
     "output_type": "display_data"
    }
   ],
   "source": [
    "columns = 5\n",
    "rows = 5\n",
    "fig = plt.figure(figsize=(8,8))\n",
    "\n",
    "for i in range(1, columns*rows+1):\n",
    "    data_idx = np.random.randint(len(train_data))\n",
    "    img = train_data[data_idx][0][0,:,:].numpy() # numpy()를 통해 torch Tensor를 numpy array로 변환\n",
    "    label = train_data[data_idx][1].item() # item()을 통해 torch Tensor를 숫자로 변환\n",
    "    \n",
    "    fig.add_subplot(rows, columns, i)\n",
    "    plt.title(label)\n",
    "    plt.imshow(img, cmap='gray')\n",
    "    plt.axis('off')\n",
    "plt.show()"
   ]
  },
  {
   "cell_type": "markdown",
   "metadata": {},
   "source": [
    "## 5. 네트워크 설계"
   ]
  },
  {
   "cell_type": "code",
   "execution_count": 5,
   "metadata": {},
   "outputs": [],
   "source": [
    "class DNN(nn.Module):\n",
    "    def __init__(self, num_classes=10):\n",
    "        super(DNN, self).__init__()\n",
    "        self.fc1 = nn.Linear(in_features=28*28, out_features=512)\n",
    "        self.relu1 = nn.ReLU()\n",
    "        self.fc2 = nn.Linear(in_features=512, out_features=512)\n",
    "        self.relu2 = nn.ReLU()\n",
    "    \n",
    "    def forward(self, x):\n",
    "        x = x.view(x.size(0), -1) # flatten\n",
    "        x_out = self.relu1(self.fc1(x))\n",
    "        x_out = self.relu2(self.fc2(x_out))\n",
    "        return x_out"
   ]
  },
  {
   "cell_type": "markdown",
   "metadata": {},
   "source": [
    "## 6. 모델 생성 및 loss function, optimizer 정의"
   ]
  },
  {
   "cell_type": "code",
   "execution_count": 6,
   "metadata": {},
   "outputs": [],
   "source": [
    "device = torch.device('cuda:0' if torch.cuda.is_available() else 'cpu')\n",
    "model = DNN().to(device)\n",
    "criterion = nn.CrossEntropyLoss()\n",
    "optimizer = torch.optim.Adam(model.parameters(), lr=learning_rate)"
   ]
  },
  {
   "cell_type": "markdown",
   "metadata": {},
   "source": [
    "## 7. Training"
   ]
  },
  {
   "cell_type": "code",
   "execution_count": 7,
   "metadata": {
    "scrolled": true
   },
   "outputs": [
    {
     "name": "stdout",
     "output_type": "stream",
     "text": [
      "Epoch [1/10], Step [100/600], Loss: 1.6250, Accuracy: 76.00%\n",
      "Epoch [1/10], Step [200/600], Loss: 0.9517, Accuracy: 81.00%\n",
      "Epoch [1/10], Step [300/600], Loss: 1.0261, Accuracy: 80.00%\n",
      "Epoch [1/10], Step [400/600], Loss: 0.6205, Accuracy: 87.00%\n",
      "Epoch [1/10], Step [500/600], Loss: 0.5848, Accuracy: 89.00%\n",
      "Epoch [1/10], Step [600/600], Loss: 0.9118, Accuracy: 84.00%\n",
      "Epoch [2/10], Step [100/600], Loss: 0.6415, Accuracy: 90.00%\n",
      "Epoch [2/10], Step [200/600], Loss: 1.0347, Accuracy: 82.00%\n",
      "Epoch [2/10], Step [300/600], Loss: 0.6542, Accuracy: 88.00%\n",
      "Epoch [2/10], Step [400/600], Loss: 0.5764, Accuracy: 92.00%\n",
      "Epoch [2/10], Step [500/600], Loss: 0.2181, Accuracy: 92.00%\n",
      "Epoch [2/10], Step [600/600], Loss: 0.2230, Accuracy: 94.00%\n",
      "Epoch [3/10], Step [100/600], Loss: 0.1956, Accuracy: 94.00%\n",
      "Epoch [3/10], Step [200/600], Loss: 0.1730, Accuracy: 95.00%\n",
      "Epoch [3/10], Step [300/600], Loss: 0.1487, Accuracy: 95.00%\n",
      "Epoch [3/10], Step [400/600], Loss: 0.1068, Accuracy: 97.00%\n",
      "Epoch [3/10], Step [500/600], Loss: 0.0673, Accuracy: 98.00%\n",
      "Epoch [3/10], Step [600/600], Loss: 0.0204, Accuracy: 100.00%\n",
      "Epoch [4/10], Step [100/600], Loss: 0.0540, Accuracy: 97.00%\n",
      "Epoch [4/10], Step [200/600], Loss: 0.1253, Accuracy: 95.00%\n",
      "Epoch [4/10], Step [300/600], Loss: 0.1289, Accuracy: 95.00%\n",
      "Epoch [4/10], Step [400/600], Loss: 0.1013, Accuracy: 97.00%\n",
      "Epoch [4/10], Step [500/600], Loss: 0.1010, Accuracy: 95.00%\n",
      "Epoch [4/10], Step [600/600], Loss: 0.0729, Accuracy: 97.00%\n",
      "Epoch [5/10], Step [100/600], Loss: 0.0634, Accuracy: 97.00%\n",
      "Epoch [5/10], Step [200/600], Loss: 0.0622, Accuracy: 98.00%\n",
      "Epoch [5/10], Step [300/600], Loss: 0.1156, Accuracy: 95.00%\n",
      "Epoch [5/10], Step [400/600], Loss: 0.1507, Accuracy: 97.00%\n",
      "Epoch [5/10], Step [500/600], Loss: 0.0446, Accuracy: 98.00%\n",
      "Epoch [5/10], Step [600/600], Loss: 0.0491, Accuracy: 100.00%\n",
      "Epoch [6/10], Step [100/600], Loss: 0.0408, Accuracy: 100.00%\n",
      "Epoch [6/10], Step [200/600], Loss: 0.1083, Accuracy: 98.00%\n",
      "Epoch [6/10], Step [300/600], Loss: 0.0524, Accuracy: 99.00%\n",
      "Epoch [6/10], Step [400/600], Loss: 0.0382, Accuracy: 99.00%\n",
      "Epoch [6/10], Step [500/600], Loss: 0.0255, Accuracy: 100.00%\n",
      "Epoch [6/10], Step [600/600], Loss: 0.0464, Accuracy: 99.00%\n",
      "Epoch [7/10], Step [100/600], Loss: 0.0886, Accuracy: 97.00%\n",
      "Epoch [7/10], Step [200/600], Loss: 0.1689, Accuracy: 94.00%\n",
      "Epoch [7/10], Step [300/600], Loss: 0.0253, Accuracy: 99.00%\n",
      "Epoch [7/10], Step [400/600], Loss: 0.2064, Accuracy: 94.00%\n",
      "Epoch [7/10], Step [500/600], Loss: 0.0079, Accuracy: 100.00%\n",
      "Epoch [7/10], Step [600/600], Loss: 0.0672, Accuracy: 97.00%\n",
      "Epoch [8/10], Step [100/600], Loss: 0.0471, Accuracy: 99.00%\n",
      "Epoch [8/10], Step [200/600], Loss: 0.0076, Accuracy: 100.00%\n",
      "Epoch [8/10], Step [300/600], Loss: 0.0164, Accuracy: 99.00%\n",
      "Epoch [8/10], Step [400/600], Loss: 0.1338, Accuracy: 97.00%\n",
      "Epoch [8/10], Step [500/600], Loss: 0.0462, Accuracy: 99.00%\n",
      "Epoch [8/10], Step [600/600], Loss: 0.0596, Accuracy: 97.00%\n",
      "Epoch [9/10], Step [100/600], Loss: 0.0181, Accuracy: 99.00%\n",
      "Epoch [9/10], Step [200/600], Loss: 0.0797, Accuracy: 97.00%\n",
      "Epoch [9/10], Step [300/600], Loss: 0.0160, Accuracy: 100.00%\n",
      "Epoch [9/10], Step [400/600], Loss: 0.0653, Accuracy: 97.00%\n",
      "Epoch [9/10], Step [500/600], Loss: 0.0467, Accuracy: 98.00%\n",
      "Epoch [9/10], Step [600/600], Loss: 0.0399, Accuracy: 98.00%\n",
      "Epoch [10/10], Step [100/600], Loss: 0.0176, Accuracy: 99.00%\n",
      "Epoch [10/10], Step [200/600], Loss: 0.0877, Accuracy: 98.00%\n",
      "Epoch [10/10], Step [300/600], Loss: 0.0360, Accuracy: 99.00%\n",
      "Epoch [10/10], Step [400/600], Loss: 0.0940, Accuracy: 98.00%\n",
      "Epoch [10/10], Step [500/600], Loss: 0.0495, Accuracy: 98.00%\n",
      "Epoch [10/10], Step [600/600], Loss: 0.0529, Accuracy: 97.00%\n"
     ]
    }
   ],
   "source": [
    "for epoch in range(num_epochs):\n",
    "    for i, (imgs, labels) in enumerate(train_loader):\n",
    "        imgs = imgs.to(device)\n",
    "        labels = labels.to(device)\n",
    "        outputs = model(imgs)\n",
    "        loss = criterion(outputs, labels)\n",
    "        \n",
    "        optimizer.zero_grad()\n",
    "        loss.backward()\n",
    "        optimizer.step()\n",
    "        \n",
    "        _, argmax = torch.max(outputs, 1)\n",
    "        accuracy = (labels == argmax).float().mean()\n",
    "        if (i+1) % 100 == 0:\n",
    "            print('Epoch [{}/{}], Step [{}/{}], Loss: {:.4f}, Accuracy: {:.2f}%'.format(\n",
    "                epoch+1, num_epochs, i+1, len(train_loader), loss.item(), accuracy.item() * 100))"
   ]
  },
  {
   "cell_type": "markdown",
   "metadata": {},
   "source": [
    "## 8. Test"
   ]
  },
  {
   "cell_type": "code",
   "execution_count": 8,
   "metadata": {},
   "outputs": [
    {
     "name": "stdout",
     "output_type": "stream",
     "text": [
      "Test accuracy for 10000 images: 97.24%\n"
     ]
    },
    {
     "data": {
      "text/plain": [
       "DNN(\n",
       "  (fc1): Linear(in_features=784, out_features=512, bias=True)\n",
       "  (relu1): ReLU()\n",
       "  (fc2): Linear(in_features=512, out_features=512, bias=True)\n",
       "  (relu2): ReLU()\n",
       ")"
      ]
     },
     "execution_count": 8,
     "metadata": {},
     "output_type": "execute_result"
    }
   ],
   "source": [
    "model.eval()\n",
    "with torch.no_grad():\n",
    "    correct = 0\n",
    "    total = 0\n",
    "    for i, (imgs, labels) in enumerate(test_loader):\n",
    "        imgs = imgs.to(device)\n",
    "        outputs = model(imgs.to(device))\n",
    "        _, argmax = torch.max(outputs, 1) # max()를 통해 최종 출력이 가장 높은 class 선택\n",
    "        total += imgs.size(0)\n",
    "        correct += (labels == argmax).sum().item()\n",
    "    \n",
    "    print('Test accuracy for {} images: {:.2f}%'.format(total, correct / total * 100))\n",
    "model.train()"
   ]
  },
  {
   "cell_type": "code",
   "execution_count": null,
   "metadata": {},
   "outputs": [],
   "source": []
  }
 ],
 "metadata": {
  "kernelspec": {
   "display_name": "py36",
   "language": "python",
   "name": "py36"
  },
  "language_info": {
   "codemirror_mode": {
    "name": "ipython",
    "version": 3
   },
   "file_extension": ".py",
   "mimetype": "text/x-python",
   "name": "python",
   "nbconvert_exporter": "python",
   "pygments_lexer": "ipython3",
   "version": "3.6.2"
  }
 },
 "nbformat": 4,
 "nbformat_minor": 1
}
